{
 "cells": [
  {
   "cell_type": "markdown",
   "metadata": {},
   "source": [
    "Lecture-4: Functions :\n",
    "    build in type : functiona are already in the library , we have to use it by following its syntax\n",
    "        print()\n",
    "    userdefined function: User has to write a logic and define it. "
   ]
  },
  {
   "cell_type": "markdown",
   "metadata": {},
   "source": [
    "#user defined function:\n",
    "No return value no Argument\n",
    "Return value with no argumnet\n",
    "no return but with argument\n",
    "return with argumnet"
   ]
  },
  {
   "cell_type": "code",
   "execution_count": 2,
   "metadata": {},
   "outputs": [
    {
     "name": "stdout",
     "output_type": "stream",
     "text": [
      "My function\n"
     ]
    }
   ],
   "source": [
    "#No return value no Argument\n",
    "def myFun():\n",
    "    print('My function') #define\n",
    "\n",
    "myFun() #call"
   ]
  },
  {
   "cell_type": "code",
   "execution_count": 3,
   "metadata": {},
   "outputs": [
    {
     "name": "stdout",
     "output_type": "stream",
     "text": [
      "30\n"
     ]
    }
   ],
   "source": [
    "def add(a,b):\n",
    "    return a+b\n",
    "r = add(10,20)\n",
    "print(r)"
   ]
  },
  {
   "cell_type": "code",
   "execution_count": 4,
   "metadata": {},
   "outputs": [
    {
     "name": "stdout",
     "output_type": "stream",
     "text": [
      "10\n"
     ]
    }
   ],
   "source": [
    "#Return value with no argumnet\n",
    "def myFun1():\n",
    "    return 10\n",
    "print(myFun1())"
   ]
  },
  {
   "cell_type": "code",
   "execution_count": 5,
   "metadata": {},
   "outputs": [
    {
     "name": "stdout",
     "output_type": "stream",
     "text": [
      "(10, 20)\n",
      "X=10, y=20\n"
     ]
    }
   ],
   "source": [
    "#Return value with no argumnet\n",
    "def myFun1():\n",
    "    return 10,20\n",
    "x, y = myFun1()\n",
    "print(myFun1())\n",
    "print(\"X={0}, y={1}\".format(x,y))\n"
   ]
  },
  {
   "cell_type": "code",
   "execution_count": null,
   "metadata": {},
   "outputs": [],
   "source": [
    "# import model_selection as mo\n",
    "\n",
    "# 1,2,3,4 = mo.train_test_split()\n",
    "#X_train, X_test,y_train,y_test"
   ]
  },
  {
   "cell_type": "code",
   "execution_count": 8,
   "metadata": {},
   "outputs": [],
   "source": [
    "#no return but with argument\n",
    "def test1(x,y):\n",
    "    print(x,y)\n",
    "    \n",
    "# test1(10,20)\n",
    "# test1(\"Tarini\",\"Hari\")\n"
   ]
  },
  {
   "cell_type": "code",
   "execution_count": 7,
   "metadata": {},
   "outputs": [
    {
     "name": "stdout",
     "output_type": "stream",
     "text": [
      "100\n"
     ]
    }
   ],
   "source": [
    "# return with argumnet\n",
    "def sqrof(x):\n",
    "    return x*x\n",
    "print(sqrof(10))"
   ]
  },
  {
   "cell_type": "code",
   "execution_count": 14,
   "metadata": {},
   "outputs": [
    {
     "name": "stdout",
     "output_type": "stream",
     "text": [
      "30\n",
      "31.0\n",
      "hellohi\n"
     ]
    }
   ],
   "source": [
    "def add(x,y):\n",
    "    return x+y\n",
    "print(add(10,20))\n",
    "print(add(10.5,20.5))\n",
    "print(add('hello','hi'))"
   ]
  },
  {
   "cell_type": "code",
   "execution_count": 15,
   "metadata": {},
   "outputs": [
    {
     "name": "stdout",
     "output_type": "stream",
     "text": [
      "60\n"
     ]
    }
   ],
   "source": [
    "def add(x,y,z):\n",
    "    return x+y+z\n",
    "print(add(10,20,30))"
   ]
  },
  {
   "cell_type": "code",
   "execution_count": 16,
   "metadata": {},
   "outputs": [
    {
     "name": "stdout",
     "output_type": "stream",
     "text": [
      "10\n"
     ]
    }
   ],
   "source": [
    "l = [1,2,3,4]\n",
    "print(sum(l))"
   ]
  },
  {
   "cell_type": "code",
   "execution_count": 17,
   "metadata": {},
   "outputs": [
    {
     "name": "stdout",
     "output_type": "stream",
     "text": [
      "10\n"
     ]
    }
   ],
   "source": [
    "x = -10\n",
    "print(abs(x)) "
   ]
  }
 ],
 "metadata": {
  "kernelspec": {
   "display_name": "Python 3",
   "language": "python",
   "name": "python3"
  },
  "language_info": {
   "codemirror_mode": {
    "name": "ipython",
    "version": 3
   },
   "file_extension": ".py",
   "mimetype": "text/x-python",
   "name": "python",
   "nbconvert_exporter": "python",
   "pygments_lexer": "ipython3",
   "version": "3.7.3"
  }
 },
 "nbformat": 4,
 "nbformat_minor": 2
}
